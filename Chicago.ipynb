{
  "nbformat": 4,
  "nbformat_minor": 0,
  "metadata": {
    "kernelspec": {
      "display_name": "Python 3",
      "language": "python",
      "name": "python3"
    },
    "language_info": {
      "codemirror_mode": {
        "name": "ipython",
        "version": 3
      },
      "file_extension": ".py",
      "mimetype": "text/x-python",
      "name": "python",
      "nbconvert_exporter": "python",
      "pygments_lexer": "ipython3",
      "version": "3.7.4"
    },
    "colab": {
      "name": "Chicago.ipynb",
      "provenance": [],
      "collapsed_sections": []
    }
  },
  "cells": [
    {
      "cell_type": "markdown",
      "metadata": {
        "id": "eQq6eJFDJrpE"
      },
      "source": [
        "# Imports\r\n"
      ]
    },
    {
      "cell_type": "code",
      "metadata": {
        "id": "MK-17vMfHGrr"
      },
      "source": [
        "#Imports\n",
        "import numpy as np\n",
        "import sklearn\n",
        "from sklearn.linear_model import *\n",
        "from sklearn.model_selection import train_test_split\n",
        "import pandas as pd\n",
        "from sklearn.metrics import accuracy_score\n",
        "from sklearn.metrics import f1_score\n",
        "from sklearn.svm import SVC\n",
        "from sklearn.model_selection import GridSearchCV"
      ],
      "execution_count": null,
      "outputs": []
    },
    {
      "cell_type": "markdown",
      "metadata": {
        "id": "_nCE04xZJ1Ii"
      },
      "source": [
        "# Inizialize Data\r\n"
      ]
    },
    {
      "cell_type": "code",
      "metadata": {
        "id": "fGsyYw5DHGru"
      },
      "source": [
        "test = pd.read_csv('test.csv')\n",
        "data = pd.read_csv('train.csv')\n",
        "data_y = pd.read_csv('y_train.csv')\n",
        "y_mock = pd.read_csv('y_test_mock.csv')"
      ],
      "execution_count": null,
      "outputs": []
    },
    {
      "cell_type": "markdown",
      "metadata": {
        "id": "5-LCE1lqJ_0-"
      },
      "source": [
        "# Prepocessing"
      ]
    },
    {
      "cell_type": "code",
      "metadata": {
        "id": "ssbCZDOgHGrt"
      },
      "source": [
        "nope = []\n",
        "nope2 = []\n",
        "nope3 = []\n",
        "for i in X_train:\n",
        "    nope.append(i)\n",
        "for i in X_test_final:\n",
        "    nope2.append(i)\n",
        "for i in nope2:\n",
        "    if i in nope:\n",
        "        nope.remove(i)\n",
        "    else:\n",
        "        nope3.append(i)"
      ],
      "execution_count": null,
      "outputs": []
    },
    {
      "cell_type": "code",
      "metadata": {
        "id": "TNnx097uHGrt"
      },
      "source": [
        "for i in nope3:\n",
        "    X_test_final.drop([i], axis=1, inplace=True)\n",
        "for i in nope:\n",
        "    X_train.drop([i], axis=1, inplace=True)"
      ],
      "execution_count": null,
      "outputs": []
    },
    {
      "cell_type": "code",
      "metadata": {
        "id": "monmgBhnHGru"
      },
      "source": [
        "data.fillna(method='backfill', inplace=True)\n",
        "test.fillna(method='backfill', inplace=True)"
      ],
      "execution_count": null,
      "outputs": []
    },
    {
      "cell_type": "code",
      "metadata": {
        "id": "PzybYHwJHGru"
      },
      "source": [
        "data_y.drop(['ID'], axis=1, inplace=True)"
      ],
      "execution_count": null,
      "outputs": []
    },
    {
      "cell_type": "code",
      "metadata": {
        "id": "43rpl9IcHGrv"
      },
      "source": [
        "data = data[['Primary Type', 'Year', 'Ward', 'Beat', 'Location Description']]\n",
        "test = test[['Primary Type', 'Year', 'Ward', 'Beat', 'Location Description']]"
      ],
      "execution_count": null,
      "outputs": []
    },
    {
      "cell_type": "code",
      "metadata": {
        "id": "wPMSD6mCHGrv"
      },
      "source": [
        "data = pd.concat([data, pd.get_dummies(data['Primary Type'])], axis=1)\n",
        "data.drop(['Primary Type'], axis=1, inplace=True)\n",
        "test = pd.concat([test, pd.get_dummies(test['Primary Type'])], axis=1)\n",
        "test.drop(['Primary Type'], axis=1, inplace=True)"
      ],
      "execution_count": null,
      "outputs": []
    },
    {
      "cell_type": "code",
      "metadata": {
        "id": "XP9HARF1HGrv"
      },
      "source": [
        "data = pd.concat([data, pd.get_dummies(data['Year'])], axis=1)\n",
        "data.drop(['Year'], axis=1, inplace=True)\n",
        "test = pd.concat([test, pd.get_dummies(test['Year'])], axis=1)\n",
        "test.drop(['Year'], axis=1, inplace=True)"
      ],
      "execution_count": null,
      "outputs": []
    },
    {
      "cell_type": "code",
      "metadata": {
        "id": "w2rihOG4HGrv"
      },
      "source": [
        "data = pd.concat([data, pd.get_dummies(data['Location Description'])], axis=1)\n",
        "data.drop(['Location Description'], axis=1, inplace=True)\n",
        "test = pd.concat([test, pd.get_dummies(test['Location Description'])], axis=1)\n",
        "test.drop(['Location Description'], axis=1, inplace=True)"
      ],
      "execution_count": null,
      "outputs": []
    },
    {
      "cell_type": "code",
      "metadata": {
        "id": "KX8fz6A7HGrv"
      },
      "source": [
        "data = data.loc[:10000]\n",
        "data_y = data_y.loc[:10000]"
      ],
      "execution_count": null,
      "outputs": []
    },
    {
      "cell_type": "code",
      "metadata": {
        "id": "qedWsc-zHGrw"
      },
      "source": [
        "X_train, X_test, y_train, y_test = train_test_split(data, data_y)"
      ],
      "execution_count": null,
      "outputs": []
    },
    {
      "cell_type": "code",
      "metadata": {
        "id": "th3oOXbDHGrs"
      },
      "source": [
        "def dropped(df1, df2):             \n",
        "    dropped1 = []               \n",
        "    dropped2 = []              \n",
        "    extra = []  \n",
        "    for x in df1:\n",
        "        dropped1.append(x)\n",
        "    for x in df2:\n",
        "        dropped2.append(x)\n",
        "    for x in dropped2:\n",
        "        if x in dropped1:\n",
        "            dropped1.remove(x)\n",
        "        else:\n",
        "            extra.append(x)\n",
        "    for x in extra:\n",
        "        df2.drop([x], axis=1, inplace=True)\n",
        "    for x in nope:\n",
        "        df1.drop([x], axis=1, inplace=True)"
      ],
      "execution_count": null,
      "outputs": []
    },
    {
      "cell_type": "code",
      "metadata": {
        "id": "CwCe36wvJaqV"
      },
      "source": [
        "dropped(X_train, y_train)"
      ],
      "execution_count": null,
      "outputs": []
    },
    {
      "cell_type": "markdown",
      "metadata": {
        "id": "IgI4EyNfKTT-"
      },
      "source": [
        "# Train log_reg with grid_search\r\n",
        "\r\n",
        "\r\n"
      ]
    },
    {
      "cell_type": "code",
      "metadata": {
        "id": "ID42CDZnHGrw"
      },
      "source": [
        "log_reg = LogisticRegression()"
      ],
      "execution_count": null,
      "outputs": []
    },
    {
      "cell_type": "code",
      "metadata": {
        "id": "2D69aizUHGrw"
      },
      "source": [
        "grid = GridSearchCV(log_reg, {'C' : np.linspace(0.001, 1, 1000)}, scoring='accuracy')"
      ],
      "execution_count": null,
      "outputs": []
    },
    {
      "cell_type": "code",
      "metadata": {
        "scrolled": true,
        "id": "ce2OAIybHGrw"
      },
      "source": [
        "grid.fit(X_train, y_train)"
      ],
      "execution_count": null,
      "outputs": []
    },
    {
      "cell_type": "code",
      "metadata": {
        "id": "h32pcSGFHGrx"
      },
      "source": [
        "best = grid.best_estimator_"
      ],
      "execution_count": null,
      "outputs": []
    },
    {
      "cell_type": "code",
      "metadata": {
        "id": "UwfO_XCsHGry"
      },
      "source": [
        "best.fit(X_train, y_train)"
      ],
      "execution_count": null,
      "outputs": []
    },
    {
      "cell_type": "markdown",
      "metadata": {
        "id": "_xcSTSJoKd0d"
      },
      "source": [
        "# Scoring\r\n"
      ]
    },
    {
      "cell_type": "code",
      "metadata": {
        "id": "gs9lMErpHGry"
      },
      "source": [
        "accuracy_score(best.predict(X_test), y_test)"
      ],
      "execution_count": null,
      "outputs": []
    },
    {
      "cell_type": "markdown",
      "metadata": {
        "id": "mK12bTmAKgKt"
      },
      "source": [
        "# Save final results"
      ]
    },
    {
      "cell_type": "code",
      "metadata": {
        "id": "pMFouio7HGry"
      },
      "source": [
        "arrests = best.predict(test)"
      ],
      "execution_count": null,
      "outputs": []
    },
    {
      "cell_type": "code",
      "metadata": {
        "id": "2Qc5FvuBHGrz"
      },
      "source": [
        "y_mock['Arrest'] = arrests"
      ],
      "execution_count": null,
      "outputs": []
    },
    {
      "cell_type": "code",
      "metadata": {
        "id": "pE2nREXlHGrz"
      },
      "source": [
        "y_mock.to_csv('chicsample.csv', index=False)"
      ],
      "execution_count": null,
      "outputs": []
    }
  ]
}